{
 "cells": [
  {
   "cell_type": "code",
   "execution_count": 14,
   "metadata": {
    "collapsed": true
   },
   "outputs": [],
   "source": [
    "import scipy\n",
    "import pandas as pd\n",
    "import numpy as np\n",
    "import math\n",
    "import pymongo\n",
    "import MySQLdb as sql\n",
    "import _mysql\n",
    "import random\n",
    "import csv\n",
    "import time\n",
    "import re\n",
    "import matplotlib.pyplot as plt; import matplotlib.pylab as pylab\n",
    "%matplotlib inline\n",
    "pd.options.display.mpl_style = 'default'\n",
    "pylab.rcParams['figure.figsize'] = 12, 6\n",
    "from dateutil import parser\n",
    "import Quandl\n",
    "from pymongo import MongoClient\n",
    "import xml.etree.ElementTree as ET\n",
    "from bs4 import BeautifulSoup\n",
    "import urllib2"
   ]
  },
  {
   "cell_type": "markdown",
   "metadata": {
    "collapsed": true
   },
   "source": [
    "## Get A BeautifulSoup Object"
   ]
  },
  {
   "cell_type": "code",
   "execution_count": 19,
   "metadata": {
    "collapsed": true
   },
   "outputs": [],
   "source": [
    "def get_search_soup(text):\n",
    "    url =  ('http://www.bloomberg.com/search?query=' + str(text))\n",
    "    soup = get_soup(url)\n",
    "    return soup\n",
    "def get_soup(url):\n",
    "    page = urllib2.urlopen(url).read()\n",
    "    soup = BeautifulSoup(page)\n",
    "    return soup\n",
    "def get_search_page_links(soup):\n",
    "    article_list = []\n",
    "    for item in soup.find_all('h1'):\n",
    "        try:\n",
    "            if 'http' in item.a['href']:\n",
    "                print item.a['href']\n",
    "                article_list.append(item.a['href'])\n",
    "            else:\n",
    "                print 'http://www.bloomberg.com/' + item.a['href']\n",
    "                article_list.append('http://www.bloomberg.com/' + item.a['href'])\n",
    "        except:\n",
    "            continue\n",
    "        print '---'\n",
    "    return article_list\n",
    "def get_text_body(article_url):\n",
    "    final_text = \"\"\n",
    "    soup = get_soup(article_url)\n",
    "    query = soup.find_all('div',  class_=\"article-body__content\")\n",
    "    for item in query:\n",
    "        for text in item.find_all('p'):\n",
    "            final_text = final_text + '\\n\\n' + str(text.text.encode('utf-8'))\n",
    "    return final_text"
   ]
  },
  {
   "cell_type": "code",
   "execution_count": 21,
   "metadata": {
    "collapsed": false
   },
   "outputs": [],
   "source": [
    "soup = get_search_soup('apple')"
   ]
  },
  {
   "cell_type": "code",
   "execution_count": 22,
   "metadata": {
    "collapsed": false
   },
   "outputs": [
    {
     "name": "stdout",
     "output_type": "stream",
     "text": [
      "http://www.bloomberg.com/politics/articles/2016-02-19/congress-seeks-apple-testimony-amid-fbi-battle-over-encryption\n",
      "---\n",
      "http://www.bloomberg.com/politics/articles/2016-02-19/apple-encryption-spurn-stirs-statehouse-push-for-backdoor-access\n",
      "---\n",
      "http://www.bloomberg.com/news/videos/2016-02-19/fbi-vs-apple-doesn-t-the-nsa-already-have-a-way-in\n",
      "---\n",
      "http://www.bloomberg.com/news/videos/2016-02-18/apple-vs-fbi-silicon-valley-weighs-in\n",
      "---\n",
      "http://www.bloomberg.com/news/audio/2016-02-19/the-bloomberg-advantage-apple-fights-order-to-unlock-iphone\n",
      "---\n",
      "http://www.bloomberg.com/news/videos/2016-02-19/google-s-head-of-android-weighs-in-on-apple-versus-fbi\n",
      "---\n",
      "http://www.bloomberg.com/politics/articles/2016-02-18/apple-s-refusal-puts-pressure-on-congress-to-break-impasse\n",
      "---\n",
      "http://www.bloomberg.com/news/videos/2016-02-18/meet-the-mastermind-behind-apple-s-processor-chip\n",
      "---\n",
      "http://www.bloomberg.com/news/articles/2016-02-18/apple-must-yield-to-fight-against-terror-nyc-prosecutor-says\n",
      "---\n",
      "http://www.bloomberg.com/news/articles/2016-02-19/apple-said-to-get-more-time-to-oppose-order-to-unlock-iphone\n",
      "---\n",
      "\n",
      "\n",
      "Apple Inc.’s decision to defy a court order demanding the company help federal agents unlock an iPhone used by one of the shooters in a California terrorist attack has emboldened a state lawmaker seeking to mandate that smartphones come equipped with a backdoor access feature.\n",
      "\n",
      "Legislators in New York and California, both states that have suffered terror attacks, are seeking to empower authorities with technology that allows them to bypass encryption firewalls in order to retrieve evidence in terrorism, child pornography and human trafficking investigations.\n",
      "\n",
      "“Like many Californians, I’m appalled that after two months and a federal court order, the manufacturer of a phone used in a terrorist attack is unwilling to help law enforcement access crucial evidence,” said California Assemblyman Jim Cooper, a Democrat and former commander of the Sacramento Valley high-tech crimes task force who authored one of the bills.\n",
      "\n",
      "While Apple’s decision escalates into a tense legal standoff with the tech industry over privacy concerns, the issue of how far companies should be required to go to cooperate in the fight against terrorism is about to take center stage in state legislative chambers. Congress also is preparing to weigh in on the issue.\n",
      "\n",
      "The manufacturers and privacy advocates say requiring smartphone makers to override pass codes could lead to government surveillance of personal information, akin to the data monitoring that was exposed by whistle-blower Edward Snowden.\n",
      "\n",
      "Apple Chief Executive Officer Tim Cook announced Tuesday the company would not provide the U.S. Federal Bureau of Investigation a new version of Apple’s operating system that would give law enforcement access to private data on the iPhone 5c used by one of two shooters who killed 14 people in San Bernardino in December. Information on the phone could help investigators determine whether anyone else was involved in the plot.\n",
      "\n",
      "“While we believe the FBI’s intentions are good, it would be wrong for the government to force us to build a backdoor into our products,” Cook wrote in a letter published on Apple’s website. “Ultimately, we fear that this demand would undermine the very freedoms and liberty our government is meant to protect.”\n",
      "\n",
      "Cooper’s bill, which is eligible for a first hearing next week, would require that all smartphones sold in California beginning in 2017 come equipped with technology that would allow it to be decrypted or unlocked by the manufacturer if asked to do so by authorities. The seller would face a $2,500 civil fine for each telephone sold in California that doesn’t comply.\n",
      "\n",
      "California law requires that smartphones made after July 1, 2015, include technology that would render the phone inoperable to an unauthorized user. The so-called “kill switch” feature was developed in response to an increase in phone thefts.\n",
      "\n",
      "New York Assemblyman Matthew Titone, a Democrat from Staten Island, last June proposed a similar bill requiring a way for police to access smartphone data at the urging of Manhattan District Attorney Cyrus Vance.\n",
      "\n",
      "“All of the evidence contained in smartphones and similar devices will be lost to law enforcement, so long as criminals take the precaution of protecting their devices with pass codes,” The District Attorneys Association of the State of New York said in a 2015 letter. “Pass-code-protected devices render lawful court orders meaningless and encourage criminals to act with impunity.”\n",
      "\n",
      "In Congress, lawmakers plan to introduce legislation to create a federal commission to study the issue and make recommendations. Senators Richard Burr, a Republican from North Carolina, and Dianne Feinstein, a Democrat from California, are considering a bill that would compel companies to assist law enforcement.\n",
      "\n",
      "Privacy advocates say the policy change would have a chilling effect.\n",
      "\n",
      "“The people who should be concerned about this are ordinary people who have nothing to hide,” said Andrew Crocker, an attorney at the Electronic Frontier Foundation in San Francisco. “The benefits of encryption are for people who are trying to protect themselves from hackers and thieves who can get access to extremely sensitive data on their phones.”\n"
     ]
    }
   ],
   "source": [
    "url_list = get_search_page_links(soup)\n",
    "temp = get_text_body(url_list[1])\n",
    "print temp"
   ]
  },
  {
   "cell_type": "code",
   "execution_count": null,
   "metadata": {
    "collapsed": true
   },
   "outputs": [],
   "source": []
  },
  {
   "cell_type": "code",
   "execution_count": null,
   "metadata": {
    "collapsed": true
   },
   "outputs": [],
   "source": []
  },
  {
   "cell_type": "code",
   "execution_count": null,
   "metadata": {
    "collapsed": true
   },
   "outputs": [],
   "source": []
  }
 ],
 "metadata": {
  "kernelspec": {
   "display_name": "Python 2",
   "language": "python",
   "name": "python2"
  },
  "language_info": {
   "codemirror_mode": {
    "name": "ipython",
    "version": 2
   },
   "file_extension": ".py",
   "mimetype": "text/x-python",
   "name": "python",
   "nbconvert_exporter": "python",
   "pygments_lexer": "ipython2",
   "version": "2.7.11"
  }
 },
 "nbformat": 4,
 "nbformat_minor": 0
}
