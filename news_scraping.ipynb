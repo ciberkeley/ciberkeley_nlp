{
 "cells": [
  {
   "cell_type": "code",
   "execution_count": 1,
   "metadata": {
    "collapsed": false
   },
   "outputs": [],
   "source": [
    "import scipy\n",
    "import pandas as pd\n",
    "import numpy as np\n",
    "import math\n",
    "#import pymongo\n",
    "#import MySQLdb as sql\n",
    "#import _mysql\n",
    "import random\n",
    "import csv\n",
    "import time\n",
    "import re\n",
    "import matplotlib.pyplot as plt; import matplotlib.pylab as pylab\n",
    "%matplotlib inline\n",
    "pd.options.display.mpl_style = 'default'\n",
    "pylab.rcParams['figure.figsize'] = 12, 6\n",
    "from dateutil import parser\n",
    "#import Quandl\n",
    "#from pymongo import MongoClient\n",
    "import xml.etree.ElementTree as ET\n",
    "from bs4 import BeautifulSoup\n",
    "import urllib.request"
   ]
  },
  {
   "cell_type": "markdown",
   "metadata": {
    "collapsed": true
   },
   "source": [
    "## Get A BeautifulSoup Object"
   ]
  },
  {
   "cell_type": "code",
   "execution_count": 6,
   "metadata": {
    "collapsed": false
   },
   "outputs": [],
   "source": [
    "def get_search_soup(text):\n",
    "    url =  ('http://www.bloomberg.com/search?query=' + str(text))\n",
    "    soup = get_soup(url)\n",
    "    return soup\n",
    "def get_soup(url):\n",
    "    page = urllib.request.urlopen(url).read()\n",
    "    soup = BeautifulSoup(page, \"lxml\")\n",
    "    return soup\n",
    "def get_search_page_links(soup):\n",
    "    article_list = []\n",
    "    for item in soup.find_all('h1'):\n",
    "        try:\n",
    "            if 'http' in item.a['href']:\n",
    "                print(item.a['href'])\n",
    "                article_list.append(item.a['href'])\n",
    "            else:\n",
    "                print('http://www.bloomberg.com/' + item.a['href'])\n",
    "                article_list.append('http://www.bloomberg.com/' + item.a['href'])\n",
    "        except:\n",
    "            continue\n",
    "        print('---')\n",
    "    return article_list\n",
    "def get_text_body(article_url):\n",
    "    final_text = \"\"\n",
    "    soup = get_soup(article_url)\n",
    "    query = soup.find_all('div',  class_=\"article-body__content\")\n",
    "    for item in query:\n",
    "        for text in item.find_all('p'):\n",
    "            final_text = final_text + '\\n\\n' + str(text.text.encode('utf-8'))\n",
    "    return final_text"
   ]
  },
  {
   "cell_type": "code",
   "execution_count": 7,
   "metadata": {
    "collapsed": false
   },
   "outputs": [],
   "source": [
    "soup = get_search_soup('apple')"
   ]
  },
  {
   "cell_type": "code",
   "execution_count": 8,
   "metadata": {
    "collapsed": false
   },
   "outputs": [
    {
     "name": "stdout",
     "output_type": "stream",
     "text": [
      "http://www.bloomberg.com/news/videos/2016-02-20/apple-suits-up-for-encryption-fight\n",
      "---\n",
      "http://www.bloomberg.com/news/articles/2016-02-19/apple-pushes-back-against-government-efforts-to-get-master-key\n",
      "---\n",
      "http://www.bloomberg.com/news/articles/2016-02-19/u-s-files-new-request-to-force-apple-to-help-in-iphone-probe\n",
      "---\n",
      "http://www.bloomberg.com/news/audio/2016-02-19/bloomberg-advantage-the-mastermind-of-apple-s-processor-chip\n",
      "---\n",
      "http://www.bloomberg.com/politics/articles/2016-02-19/congress-seeks-apple-testimony-amid-fbi-battle-over-encryption\n",
      "---\n",
      "http://www.bloomberg.com/politics/articles/2016-02-19/trump-calls-for-apple-boycott-until-company-unlocks-terrorist-s-iphone\n",
      "---\n",
      "http://www.bloomberg.com/gadfly/articles/2016-02-19/apple-google-and-the-mobile-payments-war\n",
      "---\n",
      "http://www.bloomberg.com/politics/articles/2016-02-19/apple-encryption-spurn-stirs-statehouse-push-for-backdoor-access\n",
      "---\n",
      "http://www.bloomberg.com/news/videos/2016-02-19/fbi-vs-apple-doesn-t-the-nsa-already-have-a-way-in\n",
      "---\n",
      "http://www.bloomberg.com/news/videos/2016-02-18/apple-vs-fbi-silicon-valley-weighs-in\n",
      "---\n",
      "\n",
      "\n",
      "b'Apple Inc. pushed back against U.S. government efforts to get it to help unlock an iPhone used by the San Bernardino attacker in December, as the war of words escalated in a standoff that began earlier this week.'\n",
      "\n",
      "b'The Justice Department is asking Apple to build a master key that would give it unfettered access to encrypted smartphones, said a senior\\xc2\\xa0Apple official, who asked not to be identified discussing legal issues. The U.S. government is overstepping the boundaries of the law, the official said.'\n",
      "\n",
      "b'Apple was responding to a court filing earlier on Friday from prosecutors, who asked a judge to compel Apple to cooperate in its probe and create software to access the phone used by Syed Rizwan Farook, who died in a shootout with law enforcement after a terror attack in California that killed 14 people. Earlier this week, Apple Chief Executive Officer Tim Cook said that obeying an order and helping to unlock the phone would create a \\xe2\\x80\\x9cback door\\xe2\\x80\\x9d to its devices. Apple has one week to respond to the judge\\xe2\\x80\\x99s earlier order.'\n",
      "\n",
      "b'Apple said on Friday that it has already spent a lot of time working with investigators and the FBI to help them obtain information.\\xc2\\xa0It sent engineers to San Bernardino to assist investigators trying to unlock the phone. The comapny suggested the government try to connect the shooter\\xe2\\x80\\x99s iPhone to a Wi-Fi network that it had been connected to in the past, a tactic that would cause the device to automatically back up to Apple servers, where the data could be retrieved.'\n",
      "\n",
      "b'While it\\xe2\\x80\\x99s not impossible to create special software to unlock the iPhone, it would be an undue burden, the Apple official said. Apple executives said the company will keep up its efforts to increase encryption on its devices.'\n"
     ]
    }
   ],
   "source": [
    "url_list = get_search_page_links(soup)\n",
    "temp = get_text_body(url_list[1])\n",
    "print(temp)"
   ]
  },
  {
   "cell_type": "code",
   "execution_count": null,
   "metadata": {
    "collapsed": true
   },
   "outputs": [],
   "source": []
  },
  {
   "cell_type": "code",
   "execution_count": null,
   "metadata": {
    "collapsed": true
   },
   "outputs": [],
   "source": []
  },
  {
   "cell_type": "code",
   "execution_count": null,
   "metadata": {
    "collapsed": true
   },
   "outputs": [],
   "source": []
  }
 ],
 "metadata": {
  "kernelspec": {
   "display_name": "Python 3",
   "language": "python",
   "name": "python3"
  },
  "language_info": {
   "codemirror_mode": {
    "name": "ipython",
    "version": 3
   },
   "file_extension": ".py",
   "mimetype": "text/x-python",
   "name": "python",
   "nbconvert_exporter": "python",
   "pygments_lexer": "ipython3",
   "version": "3.5.1"
  }
 },
 "nbformat": 4,
 "nbformat_minor": 0
}
