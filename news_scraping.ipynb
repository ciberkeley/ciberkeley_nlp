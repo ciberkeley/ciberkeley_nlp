{
 "cells": [
  {
   "cell_type": "code",
   "execution_count": 12,
   "metadata": {
    "collapsed": false
   },
   "outputs": [],
   "source": [
    "import scipy\n",
    "import pandas as pd\n",
    "import numpy as np\n",
    "import math\n",
    "#import pymongo\n",
    "#import MySQLdb as sql\n",
    "#import _mysql\n",
    "import random\n",
    "import csv\n",
    "import time\n",
    "import re\n",
    "import matplotlib.pyplot as plt; import matplotlib.pylab as pylab\n",
    "%matplotlib inline\n",
    "pd.options.display.mpl_style = 'default'\n",
    "pylab.rcParams['figure.figsize'] = 12, 6\n",
    "from dateutil import parser\n",
    "#import Quandl\n",
    "#from pymongo import MongoClient\n",
    "import xml.etree.ElementTree as ET\n",
    "from bs4 import BeautifulSoup\n",
    "import urllib.request"
   ]
  },
  {
   "cell_type": "markdown",
   "metadata": {
    "collapsed": true
   },
   "source": [
    "## Get A BeautifulSoup Object"
   ]
  },
  {
   "cell_type": "code",
   "execution_count": 20,
   "metadata": {
    "collapsed": false
   },
   "outputs": [],
   "source": [
    "def get_search_soup(text):\n",
    "    url =  ('http://www.bloomberg.com/search?query=' + str(text))\n",
    "    soup = get_soup(url)\n",
    "    return soup\n",
    "def get_soup(url):\n",
    "    page = urlopen(url).read()\n",
    "    soup = BeautifulSoup(page, \"lxml\")\n",
    "    return soup\n",
    "def get_search_page_links(soup):\n",
    "    article_list = []\n",
    "    for item in soup.find_all('h1'):\n",
    "        try:\n",
    "            if 'http' in item.a['href']:\n",
    "                print(item.a['href'])\n",
    "                article_list.append(item.a['href'])\n",
    "            else:\n",
    "                print('http://www.bloomberg.com/' + item.a['href'])\n",
    "                article_list.append('http://www.bloomberg.com/' + item.a['href'])\n",
    "        except:\n",
    "            continue\n",
    "        print('---')\n",
    "    return article_list\n",
    "def get_text_body(article_url):\n",
    "    final_text = \"\"\n",
    "    soup = get_soup(article_url)\n",
    "    query = soup.find_all('div',  class_=\"article-body__content\")\n",
    "    for item in query:\n",
    "        for text in item.find_all('p'):\n",
    "            final_text = final_text + '\\n\\n' + str(text.text.encode('utf-8'))\n",
    "    return final_text"
   ]
  },
  {
   "cell_type": "code",
   "execution_count": 21,
   "metadata": {
    "collapsed": false
   },
   "outputs": [],
   "source": [
    "soup = get_search_soup('apple')"
   ]
  },
  {
   "cell_type": "code",
   "execution_count": 22,
   "metadata": {
    "collapsed": false
   },
   "outputs": [
    {
     "name": "stdout",
     "output_type": "stream",
     "text": [
      "http://www.bloomberg.com/news/articles/2016-02-19/apple-pushes-back-against-government-efforts-to-get-master-key\n",
      "---\n",
      "http://www.bloomberg.com/news/articles/2016-02-19/u-s-files-new-request-to-force-apple-to-help-in-iphone-probe\n",
      "---\n",
      "http://www.bloomberg.com/news/audio/2016-02-19/bloomberg-advantage-the-mastermind-of-apple-s-processor-chip\n",
      "---\n",
      "http://www.bloomberg.com/politics/articles/2016-02-19/congress-seeks-apple-testimony-amid-fbi-battle-over-encryption\n",
      "---\n",
      "http://www.bloomberg.com/politics/articles/2016-02-19/trump-calls-for-apple-boycott-until-company-unlocks-terrorist-s-iphone\n",
      "---\n",
      "http://www.bloomberg.com/gadfly/articles/2016-02-19/apple-google-and-the-mobile-payments-war\n",
      "---\n",
      "http://www.bloomberg.com/politics/articles/2016-02-19/apple-encryption-spurn-stirs-statehouse-push-for-backdoor-access\n",
      "---\n",
      "http://www.bloomberg.com/news/videos/2016-02-19/fbi-vs-apple-doesn-t-the-nsa-already-have-a-way-in\n",
      "---\n",
      "http://www.bloomberg.com/news/videos/2016-02-18/apple-vs-fbi-silicon-valley-weighs-in\n",
      "---\n",
      "http://www.bloomberg.com/news/audio/2016-02-19/the-bloomberg-advantage-apple-fights-order-to-unlock-iphone\n",
      "---\n",
      "\n",
      "\n",
      "b'The U.S. fired back at Apple Inc. Chief Executive Officer Tim Cook after he publicly refused to help the FBI unlock a terrorist\\xe2\\x80\\x99s iPhone.'\n",
      "\n",
      "b'On Friday, the Justice Department asked the judge to compel Apple to cooperate, saying Cook had made it clear the company wouldn\\xe2\\x80\\x99t willingly comply with an earlier order to help unlock the phone used by Syed Rizwan Farook, who died after a terror attack in San Bernardino, California, that killed 14 people in December.'\n",
      "\n",
      "b'Apple\\xe2\\x80\\x99s resistance is \\xe2\\x80\\x9cbased on its concern for its business model and public brand marketing strategy,\\xe2\\x80\\x9d prosecutors said in a filing in federal court in Riverside, California. Apple \\xe2\\x80\\x9cis not above the law.\\xe2\\x80\\x9d'\n",
      "\n",
      "b'Clearly frustrated with Apple\\xe2\\x80\\x99s intransigence, the government submitted its demand a week before Apple\\xe2\\x80\\x99s deadline to respond to the judge\\xe2\\x80\\x99s earlier order. Advancing its case in the courts of both law and public opinion, the Justice Department essentially said the company has placed its profits and popularity ahead of the public\\xe2\\x80\\x99s safety. Prosecutors expanded on their initial request while picking apart Apple\\xe2\\x80\\x99s defense, as explained in a letter Cook published on the company\\xe2\\x80\\x99s website this week.'\n",
      "\n",
      "b'Cook said that obeying the order and helping to unlock the phone would create a \\xe2\\x80\\x9cback door\\xe2\\x80\\x9d to its devices. He called the judge\\xe2\\x80\\x99s move a \\xe2\\x80\\x9cchilling\\xe2\\x80\\x9d attack on civil liberties.'\n",
      "\n",
      "b'The U.S. countered Cook\\xe2\\x80\\x99s arguments Friday, saying \\xe2\\x80\\x9cthe assistance ordered is not a \\xe2\\x80\\x98back door\\xe2\\x80\\x99 or a \\xe2\\x80\\x98hack\\xe2\\x80\\x99 to all of Apple\\xe2\\x80\\x99s encryption software.\\xe2\\x80\\x9d Citing the urgency of this investigation, the Justice Department said it\\xe2\\x80\\x99s seeking the ruling because Cook\\xe2\\x80\\x99s posting made it \\xe2\\x80\\x9cpatently clear\\xe2\\x80\\x9d that Apple will fight the earlier order.'\n",
      "\n",
      "b'Kristin Huguet, a spokeswoman for Apple, didn\\xe2\\x80\\x99t answer a call seeking comment.'\n",
      "\n",
      "b'Prosecutors want Apple to provide customized software that will prevent the data on the phone from being deleted after 10 attempts to input the password. It would also enable agents to send electronic entry codes to the phone, rather than manually typing them in, and allow them to automatically enter multiple passcodes to get around the encryption standards.'\n",
      "\n",
      "b'The U.S. said Apple previously complied with prosecutors when they had a court order under the All Writs Act, a law that compels third parties to take \\xe2\\x80\\x9cnon-burdensome\\xe2\\x80\\x9d steps to help law enforcement carry out search warrants. That cooperation changed recently with new iterations of the iPhone\\xe2\\x80\\x99s operating system, the U.S. said. It pointed to a case last year involving a drug dealer in Brooklyn where Apple said it might \\xe2\\x80\\x9ctarnish\\xe2\\x80\\x9d its brand if it helps the U.S. unlock phones.'\n",
      "\n",
      "b'Apple\\xe2\\x80\\x99s real concern is protecting its image as a champion of customer privacy, the U.S. said, arguing it has the technical capabilities to unlock\\xc2\\xa0\\xe2\\x80\\x9cthe phone of a mass murderer.\\xe2\\x80\\x9d It wouldn\\xe2\\x80\\x99t be an \\xe2\\x80\\x9cundue burden\\xe2\\x80\\x9d\\xc2\\xa0for Apple to create unique software to work around the phone\\xe2\\x80\\x99s security functions, the Justice Department said, and other companies have been helpful in similar cases where prosecutors sought help unlocking encrypted computer data.'\n",
      "\n",
      "b'The U.S. also attacked Cook\\xe2\\x80\\x99s arguments that complying with the order would leave other devices vulnerable to government snooping, saying Apple would keep custody of the software and can destroy it afterward. The Justice Department isn\\xe2\\x80\\x99t interested in sweeping new powers, just in obtaining isolated pieces of information through a process that\\xe2\\x80\\x99s similar to the way it has obtained data from Apple about its customers for years, according to the filing.'\n",
      "\n",
      "b'\\xe2\\x80\\x9cUnless this court enforces the order requiring Apple\\xe2\\x80\\x99s assistance, the warrant will be meaningless,\\xe2\\x80\\x9d prosecutors said, calling \\xe2\\x80\\x9cthe most fundamental investigative tool of all.\\xe2\\x80\\x9d'\n",
      "\n",
      "b'Like many technology companies, Apple provides information about its customers to the government when issued a warrant or subpoena. The files include e-mail, iTunes and App Store purchases, pictures, old text messages and other files stored within iCloud, according to law enforcement guidelines published on the company\\xe2\\x80\\x99s website.'\n",
      "\n",
      "b'In the Farook case, the data the investigators are after is stored locally on the iPhone -- Apple has already provided the information that was backed up. The government doesn\\xe2\\x80\\x99t have the password and said it can\\xe2\\x80\\x99t keep entering random codes in hopes of eventually breaking in because that would trigger\\xc2\\xa0a security feature that erases all the content on the phone automatically.'\n",
      "\n",
      "b'Apple could easily provide the technical support, according to the government. \\xe2\\x80\\x9cAt no point has Apple ever said that it does not have the technical ability to comply with the order,\\xe2\\x80\\x9d the Justice Department said. \\xe2\\x80\\x9cOn this point, Apple\\xe2\\x80\\x99s silence speaks volumes.\\xe2\\x80\\x9d'\n",
      "\n",
      "b'Apple has until Feb. 26 to file its response to the original order. A hearing is set for March 22.'\n",
      "\n",
      "b'Case is: In the Matter of the Search of an Apple iPhone Seized During the Execution of a Search Warrant on a Black Lexus IS300, California License Plate 35KGD203, 16-CM-00010, U.S. District Court, Central District of California (Riverside).'\n"
     ]
    }
   ],
   "source": [
    "url_list = get_search_page_links(soup)\n",
    "temp = get_text_body(url_list[1])\n",
    "print(temp)"
   ]
  },
  {
   "cell_type": "code",
   "execution_count": null,
   "metadata": {
    "collapsed": true
   },
   "outputs": [],
   "source": []
  },
  {
   "cell_type": "code",
   "execution_count": null,
   "metadata": {
    "collapsed": true
   },
   "outputs": [],
   "source": []
  },
  {
   "cell_type": "code",
   "execution_count": null,
   "metadata": {
    "collapsed": true
   },
   "outputs": [],
   "source": []
  }
 ],
 "metadata": {
  "kernelspec": {
   "display_name": "Python 3",
   "language": "python",
   "name": "python3"
  },
  "language_info": {
   "codemirror_mode": {
    "name": "ipython",
    "version": 3
   },
   "file_extension": ".py",
   "mimetype": "text/x-python",
   "name": "python",
   "nbconvert_exporter": "python",
   "pygments_lexer": "ipython3",
   "version": "3.5.1"
  }
 },
 "nbformat": 4,
 "nbformat_minor": 0
}
