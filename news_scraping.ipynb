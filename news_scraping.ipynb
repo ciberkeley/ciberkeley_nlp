{
 "cells": [
  {
   "cell_type": "code",
   "execution_count": 1,
   "metadata": {
    "collapsed": true
   },
   "outputs": [],
   "source": [
    "import scipy\n",
    "import pandas as pd\n",
    "import numpy as np\n",
    "import math\n",
    "import pymongo\n",
    "import MySQLdb as sql\n",
    "import _mysql\n",
    "import random\n",
    "import csv\n",
    "import time\n",
    "import re\n",
    "import matplotlib.pyplot as plt; import matplotlib.pylab as pylab\n",
    "#%matplotlib inline\n",
    "pd.options.display.mpl_style = 'default'\n",
    "pylab.rcParams['figure.figsize'] = 12, 6\n",
    "from dateutil import parser\n",
    "import Quandl\n",
    "from pymongo import MongoClient\n",
    "import xml.etree.ElementTree as ET\n",
    "from bs4 import BeautifulSoup\n",
    "import urllib2"
   ]
  },
  {
   "cell_type": "markdown",
   "metadata": {
    "collapsed": true
   },
   "source": [
    "## Get A BeautifulSoup Object"
   ]
  },
  {
   "cell_type": "code",
   "execution_count": 11,
   "metadata": {
    "collapsed": true
   },
   "outputs": [],
   "source": [
    "def get_search_soup(text):\n",
    "    url =  ('http://www.bloomberg.com/search?query=' + str(text))\n",
    "    soup = get_soup(url)\n",
    "    return soup\n",
    "def get_soup(url):\n",
    "    page = urllib2.urlopen(url).read()\n",
    "    soup = BeautifulSoup(page)\n",
    "    return soup\n",
    "def get_search_page_links(soup):\n",
    "    article_list = []\n",
    "    for item in soup.find_all('h1'):\n",
    "        try:\n",
    "            if 'video' in item.a['href']:\n",
    "                #print 'Video Link Skipped: ' + item.a['href']\n",
    "                continue\n",
    "            if 'http' in item.a['href']:\n",
    "                #print item.a['href']\n",
    "                article_list.append(item.a['href'])\n",
    "            else:\n",
    "                #print 'http://www.bloomberg.com/' + item.a['href']\n",
    "                article_list.append('http://www.bloomberg.com/' + item.a['href'])\n",
    "        except:\n",
    "            continue\n",
    "    return article_list\n",
    "def get_text_body(article_url):\n",
    "    final_text = \"\"\n",
    "    soup = get_soup(article_url)\n",
    "    query = soup.find_all('div',  class_=\"article-body__content\")\n",
    "    for item in query:\n",
    "        for text in item.find_all('p'):\n",
    "            final_text = final_text + '\\n\\n' + str(text.text.encode('utf-8'))\n",
    "    return final_text"
   ]
  },
  {
   "cell_type": "code",
   "execution_count": 12,
   "metadata": {
    "collapsed": false
   },
   "outputs": [],
   "source": [
    "soup = get_search_soup('apple')"
   ]
  },
  {
   "cell_type": "code",
   "execution_count": 13,
   "metadata": {
    "collapsed": false
   },
   "outputs": [
    {
     "name": "stdout",
     "output_type": "stream",
     "text": [
      "Video Link Skipped: news/videos/2016-02-23/global-tech-business-leaders-continue-to-support-apple-from-mwc\n",
      "Video Link Skipped: news/videos/2016-02-22/apple-s-iphone-encryption-charlie-rose\n",
      "Video Link Skipped: news/videos/2016-02-22/huawei-backs-apple-in-phone-unlocking-dispute\n",
      "Video Link Skipped: news/videos/2016-02-22/apple-turns-to-congress-in-fbi-encryption-fight\n",
      "Video Link Skipped: news/videos/2016-02-23/this-week-in-tech-yahoo-salesforce-apple-diversity-vote\n",
      "Video Link Skipped: news/videos/2016-02-22/samsung-takes-on-apple-with-new-galaxy-s7\n",
      "\n",
      "\n",
      "Apple Inc. said the government should withdraw its court order requiring the company to help unlock a terrorist’s iPhone, and instead asked that U.S. lawmakers form an expert commission to discuss the implications for privacy, freedom and national security.\n",
      "\n",
      "QuickTake Apple\n",
      "\n",
      "The company would “gladly participate” in such an effort, which has been suggested by some in Congress, Apple said in a statement on its website Monday.\n",
      "\n",
      "Last week, U.S. Magistrate Judge Sheri Pym ordered Apple to lend “reasonable technical assistance” to the FBI in recovering information from the phone used by Syed Rizwan Farook, who killed 14 people in San Bernardino, California, with his wife in December. Apple has so far rejected the court order, saying that it would open a “Pandora’s Box” of privacy issues.\n",
      "\n",
      "The standoff has ignited a long-simmering battle between the tech industry and the government, pitting concerns over civil liberties against the need for surveillance to fight terrorism. A Congressional panel would open the discussion to more voices than a court hearing would provide, and give the company a broader venue to make its case to the public, which is divided on the issue. According to a survey by the Pew Research Center, 51 percent of Americans are backing the FBI, while 38 percent say Apple shouldn’t unlock the phone.\n",
      "\n",
      "“We feel the best way forward would be for the government to withdraw its demands under the All Writs Act and, as some in Congress have proposed, form a commission or other panel of experts on intelligence, technology, and civil liberties to discuss the implications for law enforcement, national security, privacy, and personal freedoms,” the company said Monday.\n",
      "\n",
      "A Congressional commission also may pave the way for new laws dealing with questions of privacy and security, measures that technology companies like Apple and Microsoft Corp. say are needed because current communications laws predate technology such as cloud services and the Internet.\n",
      "\n",
      "The case centers around whether the government can require Apple to write new software to compromise a key security feature of the company’s iOS mobile operating system. The government argues this is a one-time request that will aid an important terrorist investigation.\n",
      "\n",
      "In a separate letter to employees on Monday, Apple Chief Executive Officer Tim Cook said the directive would create a dangerous precedent that could ultimately require the company to build software to help governments intercept private e-mails and access private health records.\n",
      "\n",
      "On Sunday, FBI Director James Comey said the litigation over the phone “isn’t about trying to set a precedent or send any kind of message.”\n",
      "\n",
      "“We don’t want to break anyone’s encryption or set a master key loose on the land,” Comey said in a letter on the agency’s website.“I hope folks will take a deep breath and stop saying the world is ending.”\n",
      "\n",
      "Apple faces a Feb. 26 deadline to file its rebuttal to the government’s argument in court, with a hearing scheduled for March 22. Apple and FBI officials have been asked to testify in at least two congressional hearings. Meanwhile, the issue has become fodder among U.S. presidential candidates, with Republican front-runner Donald Trump calling for a ban on Apple products. The case could eventually reach the U.S. Supreme Court.\n",
      "------\n",
      "\n",
      "\n",
      "Huawei Technologies Co. will back Apple Inc. as it contests a U.S. government order requiring the unlocking of a terrorist’s iPhone, taking the side of the industry’s biggest names in a clash over the balance between law enforcement and consumer privacy.\n",
      "\n",
      "China’s largest smartphone maker joined Google Inc. and other technology companies in supporting Apple Chief Executive Officer Tim Cook, who last week vowed to fight a court order compelling the company to help investigators break into the phone used by one of the shooters in a California terrorist attack.\n",
      "\n",
      " \n",
      "\n",
      "View our full coverage of this year's Mobile World Congress.\n",
      "\n",
      " \n",
      "\n",
      "Consumer privacy is key for smartphone makers, Richard Yu, the CEO of Huawei’s fast-growing consumer devices division, told Bloomberg Television on Sunday. Huawei becomes one of the first major Asian technology companies to speak out on a debate that has galvanized an industry long resistant to government efforts to gain access to data in criminal cases.\n",
      "\n",
      "Cook warned that complying with the order would set a dangerous precedent, compromise a key security feature and possibly allow governments, criminals or other parties to access sensitive data in future. The U.S. government argues it’s a one-time request that will aid an important investigation.\n",
      "\n",
      "“It’s the top one, the most important thing to the consumer. We should really protect the consumer’s privacy and security,” said Yu, who was at the Mobile World Congress in Barcelona to unveil Huawei’s first laptop. “Personally, I support Apple’s, Tim Cook’s idea.”\n",
      "\n",
      "Huawei showed off the laptop -- which is powered by Microsoft Corp.’s Windows 10 and comes with a detachable screen -- to help fuel its rapid ascent in consumer devices. Now the world’s No. 3 smartphone maker, behind Samsung Electronics Co. and Apple according to IDC, Huawei has aspirations of becoming the No. 1 brand in five years.\n",
      "\n",
      "The Chinese company, which debuted its first device using Google’s Android in 2009 to complement its business of making networking equipment, shipped more than 100 million smartphones in 2015 for the first time, after it focused on improving quality and moved into the less crowded premium segment. Yu said Huawei got 70 percent of consumer sales from abroad in 2015.\n",
      "\n",
      " \n",
      "\n",
      " \n",
      "\n",
      "“Five years ago we are top 10, now we are top three. Within two to three years we can be top two, within five years we can be number one,” Yu said. In China, “the whole market is saturated and there is a little bit of a slowdown, but our market share, Huawei’s market share, we are increasing.”\n",
      "\n",
      "As for the U.S., the world’s largest mobile market by revenue, Yu says consumers there are opening up to a Chinese brand that’s had its networking equipment criticized by American politicians, some of whom cited alleged ties to the Chinese government. Huawei has denied those links.\n",
      "\n",
      "“They will become more open. Our products sell worldwide, in over 170 countries, for so many years,” Yu said. “For consumer electronic products even better -- because we’re learning the Android OS from Google, a U.S. company.”\n",
      "------\n",
      "\n",
      "\n",
      "Apple Inc.’s newly hired outside lawyer, in his first remarks on a U.S. court order requiring the company to help unlock the iPhone of a dead terrorist, said the move could imperil the privacy of millions of people around the world.\n",
      "\n",
      "QuickTake The NSA’s Gigantic Haystack\n",
      "\n",
      "Former U.S. Solicitor General Ted Olson, a partner with the law firm Gibson, Dunn & Crutcher, said on ABC’s “This Week” program that the order would open a “Pandora’s box” of privacy issues.\n",
      "\n",
      "“This is not just one magistrate in San Bernardino,” said Olson, 75, whose wife died in the Sept. 11, 2001, terror attacks. “There are hundreds of magistrates, there are hundreds of other courts.” \n",
      "\n",
      "In rejecting the magistrate’s decree, Apple has ignited a long-simmering battle between the tech industry and the government pitting concerns over civil liberties against the need for surveillance to fight terrorism. Republican presidential front-runner Donald Trump waded into the battle last week by urging people to boycott Apple products until it complied.\n",
      "\n",
      "“This case is entirely overstated,” John Miller, the New York Police Department’s deputy commissioner of intelligence and counterterrorism, said on “This Week” after Olson’s appearance. “The giant parade of terribles,” as he described Apple’s worries over government breaches of civil liberties, “is absurd.”\n",
      "\n",
      "On Tuesday, U.S. Magistrate Judge Sheri Pym ordered Apple to lend “reasonable technical assistance” to the FBI in recovering information from the phone used by Syed Rizwan Farook, who teamed up with his wife in December to kill 14 people in San Bernardino, California.\n",
      "\n",
      "Chief Executive Officer Tim Cook posted a letter on Apple’s website last week saying that the directive would create a dangerous precedent that could ultimately require the company to build software to help governments intercept private e-mails and access private health records.\n",
      "\n",
      " \n",
      "\n",
      "Federal officials say Apple’s concerns are exaggerated, intended to protect its image and market position rather than customers’ privacy, and that the government is simply seeking help one time to determine whether Farook and his wife had contact with outside terrorist groups such as Islamic State. More broadly, police departments throughout the country have said that the use of increasingly sophisticated encryption by companies such as Apple is stymieing investigators.\n",
      "\n",
      "Apple previously maintained a master key to the encryption codes used in iPhone software; by showing probable cause and obtaining the necessary search warrant, police could require the company to provide them with access to customer data. But the company announced in September 2014 that the latest version of its operating software, iOS8, would only allow iPhones to be opened by the user’s passcode. Now investigators want Apple to neutralize a software feature that would erase the data on Farook’s phone after 10 unsuccessful attempts are made to put in the correct password.\n",
      "\n",
      "While Olson has spent most of his career at Gibson Dunn, he served as an assistant U.S. attorney general in the 1980s and was the U.S. solicitor general under President George W. Bush. He also served on the President’s Privacy and Civil Liberties Oversight Board from 2006 to 2008.\n",
      "\n",
      "“The implications of this are quite serious,” Olson said of the court order. “People in foreign countries are going to be very, very susceptible to invasions of their privacy if Apple can be forced to change its phone.”\n",
      "------\n",
      "\n",
      "\n",
      "(Bloomberg) -- The Bloomberg Advantage with Carol Massar and Cory Johnson.\n",
      "\n",
      "GUEST: Eric O’Neill National Security Strategist Carbon Black Discussing Apple fighting order to unlock terrorist iPhone.\n",
      "\n",
      "Running time 07:45\n",
      "\n",
      " Download: Bloomberg Advantage: O'Neill on Potential Powderkeg for Apple \n",
      "------\n"
     ]
    }
   ],
   "source": [
    "url_list = get_search_page_links(soup)\n",
    "temp = get_text_body(url_list[1])\n",
    "print temp"
   ]
  },
  {
   "cell_type": "code",
   "execution_count": null,
   "metadata": {
    "collapsed": true
   },
   "outputs": [],
   "source": []
  },
  {
   "cell_type": "code",
   "execution_count": null,
   "metadata": {
    "collapsed": true
   },
   "outputs": [],
   "source": []
  },
  {
   "cell_type": "code",
   "execution_count": null,
   "metadata": {
    "collapsed": true
   },
   "outputs": [],
   "source": []
  }
 ],
 "metadata": {
  "kernelspec": {
   "display_name": "Python 2",
   "language": "python",
   "name": "python2"
  },
  "language_info": {
   "codemirror_mode": {
    "name": "ipython",
    "version": 2
   },
   "file_extension": ".py",
   "mimetype": "text/x-python",
   "name": "python",
   "nbconvert_exporter": "python",
   "pygments_lexer": "ipython2",
   "version": "2.7.11"
  }
 },
 "nbformat": 4,
 "nbformat_minor": 0
}
