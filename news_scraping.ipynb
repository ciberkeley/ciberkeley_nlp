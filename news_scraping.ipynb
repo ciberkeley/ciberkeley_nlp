{
 "cells": [
  {
   "cell_type": "code",
   "execution_count": 1,
   "metadata": {
    "collapsed": true
   },
   "outputs": [],
   "source": [
    "import scipy\n",
    "import pandas as pd\n",
    "import numpy as np\n",
    "import math\n",
    "import pymongo\n",
    "import MySQLdb as sql\n",
    "import _mysql\n",
    "import random\n",
    "import csv\n",
    "import time\n",
    "import re\n",
    "import matplotlib.pyplot as plt; import matplotlib.pylab as pylab\n",
    "%matplotlib inline\n",
    "pd.options.display.mpl_style = 'default'\n",
    "pylab.rcParams['figure.figsize'] = 12, 6\n",
    "from dateutil import parser\n",
    "import Quandl\n",
    "from pymongo import MongoClient\n",
    "import xml.etree.ElementTree as ET\n",
    "from bs4 import BeautifulSoup\n",
    "import urllib2"
   ]
  },
  {
   "cell_type": "code",
   "execution_count": null,
   "metadata": {
    "collapsed": false
   },
   "outputs": [],
   "source": []
  },
  {
   "cell_type": "markdown",
   "metadata": {
    "collapsed": true
   },
   "source": [
    "## Get A BeautifulSoup Object"
   ]
  },
  {
   "cell_type": "code",
   "execution_count": 8,
   "metadata": {
    "collapsed": true
   },
   "outputs": [],
   "source": [
    "def get_search_soup(text):\n",
    "    url =  ('http://www.bloomberg.com/search?query=' + str(text))\n",
    "    soup = get_soup(url)\n",
    "    return soup\n",
    "def get_soup(url):\n",
    "    page = urllib2.urlopen(url).read()\n",
    "    soup = BeautifulSoup(page)\n",
    "    return soup"
   ]
  },
  {
   "cell_type": "code",
   "execution_count": 9,
   "metadata": {
    "collapsed": false
   },
   "outputs": [],
   "source": [
    "soup = get_search_soup('apple')\n"
   ]
  },
  {
   "cell_type": "markdown",
   "metadata": {},
   "source": [
    "## Finding all links to search articles in bloomberg"
   ]
  },
  {
   "cell_type": "code",
   "execution_count": 5,
   "metadata": {
    "collapsed": false
   },
   "outputs": [
    {
     "name": "stdout",
     "output_type": "stream",
     "text": [
      "http://www.bloomberg.com/http://www.bloomberg.com/politics/articles/2016-02-18/apple-s-refusal-puts-pressure-on-congress-to-break-impasse\n",
      "--------\n",
      "http://www.bloomberg.com/news/articles/2016-02-18/apple-must-yield-to-fight-against-terror-nyc-prosecutor-says\n",
      "--------\n",
      "http://www.bloomberg.com/news/videos/2016-02-18/the-future-for-tech-and-apple-s-privacy-fight\n",
      "--------\n",
      "http://www.bloomberg.com/news/videos/2016-02-18/tech-lines-up-behind-apple-in-government-data-fight\n",
      "--------\n",
      "http://www.bloomberg.com/news/audio/2016-02-18/bloomberg-law-brief-apple-and-the-fbi-audio\n",
      "--------\n",
      "http://www.bloomberg.com/http://www.bloombergview.com/articles/2016-02-18/ritholtz-s-reads-apple-s-fight-and-dog-love\n",
      "--------\n",
      "http://www.bloomberg.com/news/videos/2016-02-18/apple-vows-to-fight-feds-on-privacy\n",
      "--------\n",
      "http://www.bloomberg.com/http://www.bloombergview.com/articles/2016-02-18/unlock-that-iphone-apple\n",
      "--------\n",
      "http://www.bloomberg.com/news/audio/2016-02-17/bloomberg-law-apple-refuses-court-order-audio\n",
      "--------\n",
      "http://www.bloomberg.com/news/videos/2016-02-18/what-s-behind-apple-s-silicon-valley-support\n",
      "--------\n"
     ]
    }
   ],
   "source": [
    "article_list = []\n",
    "for item in soup.find_all('h1'):\n",
    "    try:\n",
    "        print 'http://www.bloomberg.com/' + item.a['href']\n",
    "        article_list.append('http://www.bloomberg.com/' + item.a['href'])\n",
    "    except:\n",
    "        continue\n",
    "    print '--------'"
   ]
  },
  {
   "cell_type": "markdown",
   "metadata": {
    "collapsed": false
   },
   "source": [
    "## Open an article page and pull body of text"
   ]
  },
  {
   "cell_type": "code",
   "execution_count": 34,
   "metadata": {
    "collapsed": false
   },
   "outputs": [],
   "source": [
    "def get_text_body(article_url):\n",
    "    final_text = \"\"\n",
    "    soup = get_soup(article_url)\n",
    "    query = soup.find_all('div',  class_=\"article-body__content\")\n",
    "    for item in query:\n",
    "        for text in item.find_all('p'):\n",
    "            final_text = final_text + '\\n\\n' + str(text.text.encode('utf-8'))\n",
    "    return final_text"
   ]
  },
  {
   "cell_type": "code",
   "execution_count": 35,
   "metadata": {
    "collapsed": false
   },
   "outputs": [
    {
     "name": "stdout",
     "output_type": "stream",
     "text": [
      "\n",
      "\n",
      "Apple Inc. is playing sheriff in a dangerous game with law enforcement, Manhattan District Attorney Cyrus Vance Jr. said of the company’s fight with the U.S. over an encrypted iPhone used by one of the shooters in the San Bernardino terror attacks. \n",
      "\n",
      "“This has become the Wild West in technology,” Vance said at a news conference at New York City Police Headquarters with Commissioner William Bratton. “Apple and Google are their own sheriffs and there are no rules.” \n",
      "\n",
      "The two tech companies have created the first “warrant-proof” consumer products, Vance and Bratton said. Law enforcement officials across the country are watching the San Bernardino case closely, they said, because it’s the clearest example yet of how Silicon Valley is thwarting crime fighting.\n",
      "\n",
      "“It is very difficult to explain to a victim of crime” that authorities can’t get the evidence they need because a tech company thinks “they know where to draw the line between public safety and privacy,\" Vance said. Criminals know their phone data can be backed up online and are likely to disable that feature, he said, citing a Rikers Island inmate who bragged to a friend last year in a phone call that encryption was a \"gift from God.\"\n",
      "\n",
      "Representatives of Apple and Google didn’t immediately respond to requests for comment.\n",
      "\n",
      "Vance’s remarks come as the technology industry and law enforcement battle over private data -- a fight that has been intensifying since the terror attacks on Paris in November, when Vance called on Apple and Google to cooperate. The conflict hit a watershed moment Tuesday when a judge ordered Apple to help the FBI unlock the iPhone used by Syed Rizwan Farook, who with his wife carried out the Dec. 2 shootings in San Bernardino, California. Apple Chief Executive Officer Tim Cook called the government’s attempt to force the Cupertino, California, company to unlock the iPhone a “chilling” attack on civil liberties. \n",
      "\n",
      "The court order says Apple must respond within five business days. If Apple loses this round, it can appeal to a district judge, an appellate court and even the U.S. Supreme Court. It is hiring Gibson Dunn & Crutcher LLP litigator Ted Olson, according to a person familiar with the matter.\n",
      "\n",
      "The impact of encryption on crime prevention and on Americans’ everyday security is even more significant than terrorism concerns, Bratton said at the news conference, adding that “this is eventually going to require more significant court rulings and definitely legislation.”\n",
      "\n",
      "The New York City Police Department and the DA’s office used to be able to access smartphones both to charge criminals and to exonerate the innocent, Vance said. Then came Apple’s decision in the fall of 2014 to lock its products through improved encryption. Today, his office has 175 Apple devices it can’t access in criminal investigations, up from 111 late last year, he said. \n",
      "\n",
      "That number represents more than a quarter of all Apple products examined by Vance’s cybercrime unit since it was formed in 2010, and includes cases such as homicide, assault, robbery and identity theft, he said. The devices hold messages between sex traffickers and their victims, contact lists that identify the connections between conspirators, and videos of homicides and shootings.\n",
      "\n",
      "“All these cases are real cases with real crimes and real victims, and they are having real consequences here in New York City and elsewhere,” Vance said. Ninety-five percent of the criminal cases in the country are handled by state and local offices, and encryption will affect local law enforcement in far greater numbers, he said.\n",
      "\n",
      "The government’s demands of Apple in the San Bernardino case appear to be carefully tailored, said Bill Johnson, executive director of the National Association of Police Organizations and a former Miami prosecutor. He said he sees “legally no distinction” between obtaining a warrant to compel Apple to help search a phone and making a bank open a safe deposit box.\n",
      "\n",
      "“They’re not looking for a back door to have access to people’s smartphones,” he said of the FBI. “Clearly a crime has been committed. There could be more evidence, other co-conspirators or other information about what led to the crime. I think they’ve gone through the proper channels.”\n",
      "\n",
      "Vance has been an outspoken advocate of the need for companies to cooperate with law enforcement while seeking a way to address privacy concerns, and has said decisions about whether investigators can access private information should be made by courts and legislators, not companies. He has pushed for Congress to settle the issue.\n",
      "\n",
      "A 1994 law that allows a court to order a company to make design changes has been applied to telecommunications companies but not to the newer wave of technology businesses such as Apple and Google. At the time, Google and Twitter didn’t exist, and Apple hadn’t yet invented the iPhone, so the company could argue that the law doesn’t apply to them, said Ira Rubenstein, a senior fellow at the Information Law Institute of New York University Law School, who expects the issue to reach the Supreme Court.\n",
      "\n",
      "“Apple obviously won’t be shutting down its service,\" Rubenstein said. \"This is a major player with an army of lawyers.\"\n",
      "\n",
      "The U.S. could also try to argue that it is only asking for “technical assistance” rather than a design change, Rubenstein said. It would have to show that investigators seek a narrow exception that’s limited to what Apple would do in the ordinary course of business to maintain the integrity of its systems and wouldn’t disrupt its operations.\n",
      "\n",
      "A bill introduced last year by New York Assemblyman Matthew Titone, a Democrat from Staten Island, would require smartphone makers to allow their products to be unlocked.\n",
      "\n",
      "The California case is “going to open everybody’s eyes,\" said San Bernardino County District Attorney Michael A. Ramos.\n",
      "\n",
      "\"I understand the right to privacy, including mine and yours versus the government, or some would say government intrusion,\" Ramos said. \"But in this case you have a federal motion by a federal magistrate that’s very limited to protect the public.\"\n",
      "\n",
      "Ramos, who is also president-elect of the National District Attorneys Association, said his organization may seek to file a brief with the court weighing in on the issues.\n",
      "\n",
      "\"What are we really doing here? We’re protecting a terrorist,\" he said of Apple’s position. \"There’s no way around that.”\n"
     ]
    }
   ],
   "source": [
    "temp = get_text_body(article_list[1])\n",
    "print temp"
   ]
  },
  {
   "cell_type": "code",
   "execution_count": null,
   "metadata": {
    "collapsed": true
   },
   "outputs": [],
   "source": []
  },
  {
   "cell_type": "code",
   "execution_count": null,
   "metadata": {
    "collapsed": true
   },
   "outputs": [],
   "source": []
  },
  {
   "cell_type": "code",
   "execution_count": null,
   "metadata": {
    "collapsed": true
   },
   "outputs": [],
   "source": []
  }
 ],
 "metadata": {
  "kernelspec": {
   "display_name": "Python 2",
   "language": "python",
   "name": "python2"
  },
  "language_info": {
   "codemirror_mode": {
    "name": "ipython",
    "version": 2
   },
   "file_extension": ".py",
   "mimetype": "text/x-python",
   "name": "python",
   "nbconvert_exporter": "python",
   "pygments_lexer": "ipython2",
   "version": "2.7.11"
  }
 },
 "nbformat": 4,
 "nbformat_minor": 0
}
