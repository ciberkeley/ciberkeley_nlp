{
 "cells": [
  {
   "cell_type": "code",
   "execution_count": 2,
   "metadata": {
    "collapsed": true
   },
   "outputs": [],
   "source": [
    "import scipy\n",
    "import pandas as pd\n",
    "import numpy as np\n",
    "import math\n",
    "import pymongo\n",
    "import MySQLdb as sql\n",
    "import _mysql\n",
    "import random\n",
    "import csv\n",
    "import time\n",
    "import re\n",
    "import matplotlib.pyplot as plt; import matplotlib.pylab as pylab\n",
    "%matplotlib inline\n",
    "pd.options.display.mpl_style = 'default'\n",
    "pylab.rcParams['figure.figsize'] = 12, 6\n",
    "from dateutil import parser\n",
    "import Quandl\n",
    "from pymongo import MongoClient\n",
    "import xml.etree.ElementTree as ET\n",
    "from bs4 import BeautifulSoup\n",
    "import urllib2"
   ]
  },
  {
   "cell_type": "code",
   "execution_count": null,
   "metadata": {
    "collapsed": false
   },
   "outputs": [],
   "source": []
  },
  {
   "cell_type": "markdown",
   "metadata": {
    "collapsed": true
   },
   "source": [
    "## Get A BeautifulSoup Object"
   ]
  },
  {
   "cell_type": "code",
   "execution_count": 85,
   "metadata": {
    "collapsed": true
   },
   "outputs": [],
   "source": [
    "def get_search_soup(text):\n",
    "    url =  ('http://www.bloomberg.com/search?query=' + str(text))\n",
    "    page = urllib2.urlopen(url).read()\n",
    "    soup = BeautifulSoup(page)\n",
    "    print url\n",
    "    return soup"
   ]
  },
  {
   "cell_type": "code",
   "execution_count": 111,
   "metadata": {
    "collapsed": false
   },
   "outputs": [
    {
     "name": "stdout",
     "output_type": "stream",
     "text": [
      "http://www.bloomberg.com/search?query=apple\n"
     ]
    }
   ],
   "source": [
    "soup = get_search_soup('apple')\n"
   ]
  },
  {
   "cell_type": "markdown",
   "metadata": {},
   "source": [
    "## Finding all links to search articles in bloomberg"
   ]
  },
  {
   "cell_type": "code",
   "execution_count": 112,
   "metadata": {
    "collapsed": false
   },
   "outputs": [
    {
     "name": "stdout",
     "output_type": "stream",
     "text": [
      "http://www.bloomberg.com/news/videos/2016-02-17/the-after-life-of-an-iphone\n",
      "--------\n",
      "http://www.bloomberg.com/news/articles/2016-02-17/icahn-einhorn-pared-back-apple-stakes-before-2016-decline-began\n",
      "--------\n",
      "http://www.bloomberg.com/http://www.bloomberg.com/politics/articles/2016-02-17/u-s-asks-court-to-force-apple-to-help-unlock-shooter-s-iphone\n",
      "--------\n",
      "http://www.bloomberg.com/news/articles/2016-02-16/apple-said-to-plan-dollar-bond-sale-for-capital-return-program\n",
      "--------\n",
      "http://www.bloomberg.com/news/articles/2016-02-16/corporate-bond-deals-take-off-with-apple-and-ibm-tapping-market\n",
      "--------\n",
      "http://www.bloomberg.com/http://www.bloomberg.com/gadfly/articles/2016-02-16/apple-leads-tech-companies-in-blinding-bond-buyers-to-risk\n",
      "--------\n",
      "http://www.bloomberg.com/news/articles/2016-02-16/coca-cola-considers-following-apple-with-australian-bond-debut\n",
      "--------\n",
      "http://www.bloomberg.com/news/articles/2016-02-16/tiger-global-loaded-up-on-apple-priceline-stock-in-last-quarter\n",
      "--------\n",
      "http://www.bloomberg.com/news/articles/2016-02-16/the-german-coal-miner-using-1-000-ipads-to-help-weather-a-rout\n",
      "--------\n",
      "http://www.bloomberg.com/news/features/2016-02-16/where-your-iphone-goes-to-die\n",
      "--------\n"
     ]
    }
   ],
   "source": [
    "for item in soup.find_all('h1'):\n",
    "    try:\n",
    "        print 'http://www.bloomberg.com/' + item.a['href']\n",
    "    except:\n",
    "        continue\n",
    "    print '--------'"
   ]
  },
  {
   "cell_type": "code",
   "execution_count": null,
   "metadata": {
    "collapsed": false
   },
   "outputs": [],
   "source": []
  },
  {
   "cell_type": "code",
   "execution_count": null,
   "metadata": {
    "collapsed": true
   },
   "outputs": [],
   "source": []
  },
  {
   "cell_type": "code",
   "execution_count": null,
   "metadata": {
    "collapsed": true
   },
   "outputs": [],
   "source": []
  },
  {
   "cell_type": "code",
   "execution_count": null,
   "metadata": {
    "collapsed": true
   },
   "outputs": [],
   "source": []
  },
  {
   "cell_type": "code",
   "execution_count": null,
   "metadata": {
    "collapsed": true
   },
   "outputs": [],
   "source": []
  },
  {
   "cell_type": "code",
   "execution_count": null,
   "metadata": {
    "collapsed": true
   },
   "outputs": [],
   "source": []
  }
 ],
 "metadata": {
  "kernelspec": {
   "display_name": "Python 2",
   "language": "python",
   "name": "python2"
  },
  "language_info": {
   "codemirror_mode": {
    "name": "ipython",
    "version": 2
   },
   "file_extension": ".py",
   "mimetype": "text/x-python",
   "name": "python",
   "nbconvert_exporter": "python",
   "pygments_lexer": "ipython2",
   "version": "2.7.11"
  }
 },
 "nbformat": 4,
 "nbformat_minor": 0
}
